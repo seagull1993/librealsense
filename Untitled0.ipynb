{
  "nbformat": 4,
  "nbformat_minor": 0,
  "metadata": {
    "colab": {
      "name": "Untitled0.ipynb",
      "version": "0.3.2",
      "provenance": [],
      "include_colab_link": true
    },
    "kernelspec": {
      "name": "python3",
      "display_name": "Python 3"
    },
    "accelerator": "GPU"
  },
  "cells": [
    {
      "cell_type": "markdown",
      "metadata": {
        "id": "view-in-github",
        "colab_type": "text"
      },
      "source": [
        "<a href=\"https://colab.research.google.com/github/seagull1993/librealsense/blob/master/Untitled0.ipynb\" target=\"_parent\"><img src=\"https://colab.research.google.com/assets/colab-badge.svg\" alt=\"Open In Colab\"/></a>"
      ]
    },
    {
      "cell_type": "code",
      "metadata": {
        "id": "m4azjxeGc4QK",
        "colab_type": "code",
        "colab": {
          "base_uri": "https://localhost:8080/",
          "height": 34
        },
        "outputId": "05fd04dd-a778-4578-a301-81f3fd9e498b"
      },
      "source": [
        " !cat /etc/issue.net"
      ],
      "execution_count": 24,
      "outputs": [
        {
          "output_type": "stream",
          "text": [
            "Ubuntu 18.04.2 LTS\n"
          ],
          "name": "stdout"
        }
      ]
    },
    {
      "cell_type": "code",
      "metadata": {
        "id": "du6-aw6qc6j9",
        "colab_type": "code",
        "colab": {}
      },
      "source": [
        "from google.colab import auth\n",
        "auth.authenticate_user()"
      ],
      "execution_count": 0,
      "outputs": []
    },
    {
      "cell_type": "code",
      "metadata": {
        "id": "qjeRlYGedAvR",
        "colab_type": "code",
        "colab": {
          "base_uri": "https://localhost:8080/",
          "height": 34
        },
        "outputId": "1799eac6-13d2-4a6e-856a-2865d84d17ce"
      },
      "source": [
        "from google.colab import drive\n",
        "drive.mount('/content/gdrive')"
      ],
      "execution_count": 26,
      "outputs": [
        {
          "output_type": "stream",
          "text": [
            "Mounted at /content/gdrive\n"
          ],
          "name": "stdout"
        }
      ]
    },
    {
      "cell_type": "code",
      "metadata": {
        "id": "9rdfNbKxdDzH",
        "colab_type": "code",
        "colab": {
          "base_uri": "https://localhost:8080/",
          "height": 105
        },
        "outputId": "8328abdf-1392-4442-bd51-1b4e152e71d5"
      },
      "source": [
        "! git clone https://github.com/OpenNMT/OpenNMT-py.git"
      ],
      "execution_count": 5,
      "outputs": [
        {
          "output_type": "stream",
          "text": [
            "Cloning into 'OpenNMT-py'...\n",
            "remote: Enumerating objects: 14092, done.\u001b[K\n",
            "remote: Total 14092 (delta 0), reused 0 (delta 0), pack-reused 14092\u001b[K\n",
            "Receiving objects: 100% (14092/14092), 145.68 MiB | 13.75 MiB/s, done.\n",
            "Resolving deltas: 100% (10091/10091), done.\n"
          ],
          "name": "stdout"
        }
      ]
    },
    {
      "cell_type": "code",
      "metadata": {
        "id": "TEUvLIldmHxB",
        "colab_type": "code",
        "colab": {}
      },
      "source": [
        ""
      ],
      "execution_count": 0,
      "outputs": []
    },
    {
      "cell_type": "code",
      "metadata": {
        "id": "hZoq4BiKdjDf",
        "colab_type": "code",
        "colab": {
          "base_uri": "https://localhost:8080/",
          "height": 210
        },
        "outputId": "f70a0ae0-6870-4bba-aa47-f7bfaabaef2b"
      },
      "source": [
        "! cd OpenNMT-py; ls;"
      ],
      "execution_count": 6,
      "outputs": [
        {
          "output_type": "stream",
          "text": [
            "available_models\t\t\t  onmt\n",
            "CHANGELOG.md\t\t\t\t  preprocess.py\n",
            "config\t\t\t\t\t  README.md\n",
            "CONTRIBUTING.md\t\t\t\t  requirements.opt.txt\n",
            "data\t\t\t\t\t  requirements.txt\n",
            "Dockerfile\t\t\t\t  server.py\n",
            "docs\t\t\t\t\t  setup.py\n",
            "floyd_requirements.txt\t\t\t  tools\n",
            "floyd.yml\t\t\t\t  train.py\n",
            "github_deploy_key_opennmt_opennmt_py.enc  translate.py\n",
            "LICENSE.md\n"
          ],
          "name": "stdout"
        }
      ]
    },
    {
      "cell_type": "code",
      "metadata": {
        "id": "joJrhDvLeVGH",
        "colab_type": "code",
        "colab": {
          "base_uri": "https://localhost:8080/",
          "height": 672
        },
        "outputId": "e5bcd914-a42e-4203-b475-280ba6a069d4"
      },
      "source": [
        "! pip install -r OpenNMT-py/requirements.txt\n",
        "\n"
      ],
      "execution_count": 7,
      "outputs": [
        {
          "output_type": "stream",
          "text": [
            "Collecting git+https://github.com/pytorch/text.git@master#wheel=torchtext (from -r OpenNMT-py/requirements.txt (line 4))\n",
            "  Cloning https://github.com/pytorch/text.git (to revision master) to /tmp/pip-req-build-_95s1m2e\n",
            "  Running command git clone -q https://github.com/pytorch/text.git /tmp/pip-req-build-_95s1m2e\n",
            "Requirement already satisfied: six in /usr/local/lib/python3.6/dist-packages (from -r OpenNMT-py/requirements.txt (line 1)) (1.12.0)\n",
            "Collecting tqdm==4.30.* (from -r OpenNMT-py/requirements.txt (line 2))\n",
            "\u001b[?25l  Downloading https://files.pythonhosted.org/packages/76/4c/103a4d3415dafc1ddfe6a6624333971756e2d3dd8c6dc0f520152855f040/tqdm-4.30.0-py2.py3-none-any.whl (47kB)\n",
            "\u001b[K     |████████████████████████████████| 51kB 17.0MB/s \n",
            "\u001b[?25hRequirement already satisfied: torch>=1.1 in /usr/local/lib/python3.6/dist-packages (from -r OpenNMT-py/requirements.txt (line 3)) (1.1.0)\n",
            "Requirement already satisfied: future in /usr/local/lib/python3.6/dist-packages (from -r OpenNMT-py/requirements.txt (line 5)) (0.16.0)\n",
            "Collecting configargparse (from -r OpenNMT-py/requirements.txt (line 6))\n",
            "  Downloading https://files.pythonhosted.org/packages/55/ea/f0ade52790bcd687127a302b26c1663bf2e0f23210d5281dbfcd1dfcda28/ConfigArgParse-0.14.0.tar.gz\n",
            "Requirement already satisfied: requests in /usr/local/lib/python3.6/dist-packages (from torchtext==0.4.0->-r OpenNMT-py/requirements.txt (line 4)) (2.21.0)\n",
            "Requirement already satisfied: numpy in /usr/local/lib/python3.6/dist-packages (from torchtext==0.4.0->-r OpenNMT-py/requirements.txt (line 4)) (1.16.4)\n",
            "Requirement already satisfied: urllib3<1.25,>=1.21.1 in /usr/local/lib/python3.6/dist-packages (from requests->torchtext==0.4.0->-r OpenNMT-py/requirements.txt (line 4)) (1.24.3)\n",
            "Requirement already satisfied: certifi>=2017.4.17 in /usr/local/lib/python3.6/dist-packages (from requests->torchtext==0.4.0->-r OpenNMT-py/requirements.txt (line 4)) (2019.6.16)\n",
            "Requirement already satisfied: idna<2.9,>=2.5 in /usr/local/lib/python3.6/dist-packages (from requests->torchtext==0.4.0->-r OpenNMT-py/requirements.txt (line 4)) (2.8)\n",
            "Requirement already satisfied: chardet<3.1.0,>=3.0.2 in /usr/local/lib/python3.6/dist-packages (from requests->torchtext==0.4.0->-r OpenNMT-py/requirements.txt (line 4)) (3.0.4)\n",
            "Building wheels for collected packages: configargparse, torchtext\n",
            "  Building wheel for configargparse (setup.py) ... \u001b[?25l\u001b[?25hdone\n",
            "  Stored in directory: /root/.cache/pip/wheels/aa/9c/ce/7e904dddb8c7595ffbe3409d24455bc5005852850e36011bda\n",
            "  Building wheel for torchtext (setup.py) ... \u001b[?25l\u001b[?25hdone\n",
            "  Stored in directory: /tmp/pip-ephem-wheel-cache-o3elokza/wheels/47/f9/8d/a9e397ec2629a3fd3219b2ebc3ec8b55396fd3cf55963a77a5\n",
            "Successfully built configargparse torchtext\n",
            "Installing collected packages: tqdm, configargparse, torchtext\n",
            "  Found existing installation: tqdm 4.28.1\n",
            "    Uninstalling tqdm-4.28.1:\n",
            "      Successfully uninstalled tqdm-4.28.1\n",
            "  Found existing installation: torchtext 0.3.1\n",
            "    Uninstalling torchtext-0.3.1:\n",
            "      Successfully uninstalled torchtext-0.3.1\n",
            "Successfully installed configargparse-0.14.0 torchtext-0.4.0 tqdm-4.30.0\n"
          ],
          "name": "stdout"
        },
        {
          "output_type": "display_data",
          "data": {
            "application/vnd.colab-display-data+json": {
              "pip_warning": {
                "packages": [
                  "tqdm"
                ]
              }
            }
          },
          "metadata": {
            "tags": []
          }
        }
      ]
    },
    {
      "cell_type": "code",
      "metadata": {
        "id": "uel_2uCEfdPv",
        "colab_type": "code",
        "colab": {
          "base_uri": "https://localhost:8080/",
          "height": 263
        },
        "outputId": "4627731b-8687-467b-ec28-e8596fb1a2cd"
      },
      "source": [
        "! python OpenNMT-py/preprocess.py -train_src OpenNMT-py/data/src-train.txt -train_tgt OpenNMT-py/data/tgt-train.txt -valid_src OpenNMT-py/data/src-val.txt -valid_tgt OpenNMT-py/data/tgt-val.txt -save_data OpenNMT-py/data/demo\n"
      ],
      "execution_count": 8,
      "outputs": [
        {
          "output_type": "stream",
          "text": [
            "[2019-06-26 16:26:58,662 INFO] Extracting features...\n",
            "[2019-06-26 16:26:58,662 INFO]  * number of source features: 0.\n",
            "[2019-06-26 16:26:58,662 INFO]  * number of target features: 0.\n",
            "[2019-06-26 16:26:58,662 INFO] Building `Fields` object...\n",
            "[2019-06-26 16:26:58,662 INFO] Building & saving training data...\n",
            "[2019-06-26 16:26:58,662 INFO] Reading source and target files: OpenNMT-py/data/src-train.txt OpenNMT-py/data/tgt-train.txt.\n",
            "[2019-06-26 16:26:58,666 INFO] Building shard 0.\n",
            "[2019-06-26 16:26:59,048 INFO]  * saving 0th train data shard to OpenNMT-py/data/demo.train.0.pt.\n",
            "[2019-06-26 16:26:59,608 INFO]  * tgt vocab size: 35820.\n",
            "[2019-06-26 16:26:59,653 INFO]  * src vocab size: 24997.\n",
            "[2019-06-26 16:26:59,867 INFO] Building & saving validation data...\n",
            "[2019-06-26 16:26:59,867 INFO] Reading source and target files: OpenNMT-py/data/src-val.txt OpenNMT-py/data/tgt-val.txt.\n",
            "[2019-06-26 16:26:59,869 INFO] Building shard 0.\n",
            "[2019-06-26 16:26:59,923 INFO]  * saving 0th valid data shard to OpenNMT-py/data/demo.valid.0.pt.\n"
          ],
          "name": "stdout"
        }
      ]
    },
    {
      "cell_type": "code",
      "metadata": {
        "id": "6Ph0jBW1go8r",
        "colab_type": "code",
        "colab": {
          "base_uri": "https://localhost:8080/",
          "height": 890
        },
        "outputId": "40392ae6-d575-4c94-cf19-4798e54cb626"
      },
      "source": [
        "!python OpenNMT-py/train.py -data OpenNMT-py/data/demo -save_model demo-model\n"
      ],
      "execution_count": 0,
      "outputs": [
        {
          "output_type": "stream",
          "text": [
            "[2019-06-26 16:27:10,917 INFO]  * src vocab size = 24997\n",
            "[2019-06-26 16:27:10,917 INFO]  * tgt vocab size = 35820\n",
            "[2019-06-26 16:27:10,917 INFO] Building model...\n",
            "[2019-06-26 16:27:11,961 INFO] NMTModel(\n",
            "  (encoder): RNNEncoder(\n",
            "    (embeddings): Embeddings(\n",
            "      (make_embedding): Sequential(\n",
            "        (emb_luts): Elementwise(\n",
            "          (0): Embedding(24997, 500, padding_idx=1)\n",
            "        )\n",
            "      )\n",
            "    )\n",
            "    (rnn): LSTM(500, 500, num_layers=2, dropout=0.3)\n",
            "  )\n",
            "  (decoder): InputFeedRNNDecoder(\n",
            "    (embeddings): Embeddings(\n",
            "      (make_embedding): Sequential(\n",
            "        (emb_luts): Elementwise(\n",
            "          (0): Embedding(35820, 500, padding_idx=1)\n",
            "        )\n",
            "      )\n",
            "    )\n",
            "    (dropout): Dropout(p=0.3)\n",
            "    (rnn): StackedLSTM(\n",
            "      (dropout): Dropout(p=0.3)\n",
            "      (layers): ModuleList(\n",
            "        (0): LSTMCell(1000, 500)\n",
            "        (1): LSTMCell(500, 500)\n",
            "      )\n",
            "    )\n",
            "    (attn): GlobalAttention(\n",
            "      (linear_in): Linear(in_features=500, out_features=500, bias=False)\n",
            "      (linear_out): Linear(in_features=1000, out_features=500, bias=False)\n",
            "    )\n",
            "  )\n",
            "  (generator): Sequential(\n",
            "    (0): Linear(in_features=500, out_features=35820, bias=True)\n",
            "    (1): Cast()\n",
            "    (2): LogSoftmax()\n",
            "  )\n",
            ")\n",
            "[2019-06-26 16:27:11,962 INFO] encoder: 16506500\n",
            "[2019-06-26 16:27:11,962 INFO] decoder: 41613820\n",
            "[2019-06-26 16:27:11,962 INFO] * number of parameters: 58120320\n",
            "[2019-06-26 16:27:11,963 INFO] Starting training on CPU, could be very slow\n",
            "[2019-06-26 16:27:11,963 INFO] Start training loop and validate every 10000 steps...\n",
            "[2019-06-26 16:27:11,964 INFO] Loading dataset from OpenNMT-py/data/demo.train.0.pt\n",
            "[2019-06-26 16:27:12,114 INFO] number of examples: 10000\n"
          ],
          "name": "stdout"
        }
      ]
    },
    {
      "cell_type": "code",
      "metadata": {
        "id": "STNpxINnfy0w",
        "colab_type": "code",
        "colab": {}
      },
      "source": [
        ""
      ],
      "execution_count": 0,
      "outputs": []
    },
    {
      "cell_type": "code",
      "metadata": {
        "id": "GEvZGuMrgSQt",
        "colab_type": "code",
        "colab": {}
      },
      "source": [
        ""
      ],
      "execution_count": 0,
      "outputs": []
    },
    {
      "cell_type": "code",
      "metadata": {
        "id": "kpjxQWUbf9do",
        "colab_type": "code",
        "colab": {
          "base_uri": "https://localhost:8080/",
          "height": 34
        },
        "outputId": "7198df8d-9e63-4648-8082-a6034ec1d71a"
      },
      "source": [
        ""
      ],
      "execution_count": 43,
      "outputs": [
        {
          "output_type": "stream",
          "text": [
            "python3: can't open file 'preprocess.py': [Errno 2] No such file or directory\n"
          ],
          "name": "stdout"
        }
      ]
    }
  ]
}